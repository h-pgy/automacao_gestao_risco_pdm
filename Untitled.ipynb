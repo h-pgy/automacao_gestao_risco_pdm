{
 "cells": [
  {
   "cell_type": "code",
   "execution_count": 1,
   "id": "723d246f-0f8b-4a31-b83a-6554e61f754e",
   "metadata": {},
   "outputs": [],
   "source": [
    "from core.word_reader import WordReader, table_generator\n",
    "from core.excel_reader import ExcelReader"
   ]
  },
  {
   "cell_type": "code",
   "execution_count": 2,
   "id": "0228ab55-1162-4bd7-9f2c-50e8aa95f712",
   "metadata": {},
   "outputs": [],
   "source": [
    "t = table_generator()"
   ]
  },
  {
   "cell_type": "code",
   "execution_count": 3,
   "id": "21b79641-cded-45c9-baad-f54f43cb9492",
   "metadata": {},
   "outputs": [],
   "source": [
    "a = next(t)"
   ]
  },
  {
   "cell_type": "code",
   "execution_count": 4,
   "id": "9a72f99b-6286-4c9a-bb96-134446828e6f",
   "metadata": {},
   "outputs": [],
   "source": [
    "def num_meta(table):\n",
    "    \n",
    "    primeira_linha = table[0]\n",
    "    primeira_celula = primeira_linha[0]\n",
    "    \n",
    "    return primeira_celula['text']"
   ]
  },
  {
   "cell_type": "code",
   "execution_count": 27,
   "id": "615a7c9f-f016-433d-9b26-38c9468cfa5b",
   "metadata": {},
   "outputs": [],
   "source": [
    "def row_total(table):\n",
    "    \n",
    "    for row in table:\n",
    "        for cell in row:\n",
    "            if cell['text'].lower().strip() == 'total':\n",
    "                return row"
   ]
  },
  {
   "cell_type": "code",
   "execution_count": null,
   "id": "5fba1f95-9af3-4d51-8414-1997657cf262",
   "metadata": {},
   "outputs": [],
   "source": []
  },
  {
   "cell_type": "code",
   "execution_count": 28,
   "id": "de8a61a2-1747-419c-85da-60de52b279d8",
   "metadata": {
    "tags": []
   },
   "outputs": [
    {
     "data": {
      "text/plain": [
       "[{'text': 'TOTAL', 'val': <docx.table._Cell at 0x24f29629040>},\n",
       " {'text': '1.818.971', 'val': <docx.table._Cell at 0x24f296290a0>},\n",
       " {'text': '1.756.923', 'val': <docx.table._Cell at 0x24f29629100>},\n",
       " {'text': '1.742.191', 'val': <docx.table._Cell at 0x24f29629160>},\n",
       " {'text': '1.744.744', 'val': <docx.table._Cell at 0x24f296291c0>},\n",
       " {'text': '1.700.000', 'val': <docx.table._Cell at 0x24f29629220>}]"
      ]
     },
     "execution_count": 28,
     "metadata": {},
     "output_type": "execute_result"
    }
   ],
   "source": [
    "row_total(a)"
   ]
  },
  {
   "cell_type": "code",
   "execution_count": 6,
   "id": "28948697-242e-47f3-b258-32c7c09a0e37",
   "metadata": {},
   "outputs": [],
   "source": [
    "e = ExcelReader()"
   ]
  },
  {
   "cell_type": "code",
   "execution_count": 21,
   "id": "bb8ea438-529b-4bea-9ef5-d081239c5e0d",
   "metadata": {},
   "outputs": [
    {
     "data": {
      "text/plain": [
       "1659544.0"
      ]
     },
     "execution_count": 21,
     "metadata": {},
     "output_type": "execute_result"
    }
   ],
   "source": [
    "e.acumulado[num_meta(a)][2021][1]"
   ]
  },
  {
   "cell_type": "code",
   "execution_count": 8,
   "id": "252828e2-a4de-4165-8c6f-7097adb5d71e",
   "metadata": {},
   "outputs": [],
   "source": [
    "from datetime import datetime"
   ]
  },
  {
   "cell_type": "code",
   "execution_count": 9,
   "id": "2d65951b-e669-4e2a-9c08-fa4370495996",
   "metadata": {},
   "outputs": [],
   "source": [
    "hoje = datetime.today()"
   ]
  },
  {
   "cell_type": "code",
   "execution_count": 10,
   "id": "38731127-72da-48f4-89d4-b1ccae28b40b",
   "metadata": {},
   "outputs": [],
   "source": [
    "meses = {\n",
    "    1 : 'jan',\n",
    "    2 : 'fev',\n",
    "    3 : 'mar',\n",
    "    4 : 'abr', \n",
    "    5 : 'mai',\n",
    "    6 : 'jun',\n",
    "    7 : 'jul',\n",
    "    8 : 'ago',\n",
    "    9 : 'set',\n",
    "    10 : 'out',\n",
    "    11 : 'nov',\n",
    "    12 : 'dez'\n",
    "    }"
   ]
  },
  {
   "cell_type": "code",
   "execution_count": 11,
   "id": "7f4fea18-643f-4bf6-a91d-b5092a4ee3b8",
   "metadata": {},
   "outputs": [],
   "source": [
    "from core.date_solver import DataHoje"
   ]
  },
  {
   "cell_type": "code",
   "execution_count": 12,
   "id": "c64c8a27-9db4-4432-8254-fa9f588b7f5f",
   "metadata": {},
   "outputs": [],
   "source": [
    "d = DataHoje()"
   ]
  },
  {
   "cell_type": "code",
   "execution_count": 13,
   "id": "677e6fd8-00cf-46a9-aa42-c54bd0e64b0a",
   "metadata": {},
   "outputs": [
    {
     "data": {
      "text/plain": [
       "'mai'"
      ]
     },
     "execution_count": 13,
     "metadata": {},
     "output_type": "execute_result"
    }
   ],
   "source": [
    "d.mes_atual_str"
   ]
  },
  {
   "cell_type": "code",
   "execution_count": 14,
   "id": "74ef4438-ab2b-4e0c-9a03-5daa4b8f1944",
   "metadata": {},
   "outputs": [
    {
     "data": {
      "text/plain": [
       "'jun'"
      ]
     },
     "execution_count": 14,
     "metadata": {},
     "output_type": "execute_result"
    }
   ],
   "source": [
    "d.mes_seguinte_str"
   ]
  },
  {
   "cell_type": "code",
   "execution_count": null,
   "id": "5ca5ccb1-c5d9-45f3-a7c5-f9c1095d8f52",
   "metadata": {},
   "outputs": [],
   "source": []
  }
 ],
 "metadata": {
  "kernelspec": {
   "display_name": "Python 3 (ipykernel)",
   "language": "python",
   "name": "python3"
  },
  "language_info": {
   "codemirror_mode": {
    "name": "ipython",
    "version": 3
   },
   "file_extension": ".py",
   "mimetype": "text/x-python",
   "name": "python",
   "nbconvert_exporter": "python",
   "pygments_lexer": "ipython3",
   "version": "3.9.7"
  }
 },
 "nbformat": 4,
 "nbformat_minor": 5
}
