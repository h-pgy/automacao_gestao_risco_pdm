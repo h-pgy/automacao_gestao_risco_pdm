{
 "cells": [
  {
   "cell_type": "code",
   "execution_count": 1,
   "id": "fff00814-190f-4317-8bbc-6c49563bbafd",
   "metadata": {},
   "outputs": [],
   "source": [
    "import pandas as pd\n",
    "from docx import Document\n",
    "from core.utils import list_files\n",
    "import os"
   ]
  },
  {
   "cell_type": "code",
   "execution_count": 2,
   "id": "779d245b-e1c0-49ba-8404-0ccf4e8fb1b4",
   "metadata": {},
   "outputs": [],
   "source": [
    "words = list_files('original_data', 'docx')"
   ]
  },
  {
   "cell_type": "code",
   "execution_count": 3,
   "id": "216f0683-6b4e-42f8-a9e9-c6ef9382f8eb",
   "metadata": {},
   "outputs": [
    {
     "data": {
      "text/plain": [
       "['C:\\\\Users\\\\d835916\\\\Desktop\\\\projetos\\\\automacao_gestao_risco_pdm\\\\original_data\\\\Metas - Acompanhamento Geral (abr-22).docx']"
      ]
     },
     "execution_count": 3,
     "metadata": {},
     "output_type": "execute_result"
    }
   ],
   "source": [
    "words"
   ]
  },
  {
   "cell_type": "code",
   "execution_count": 4,
   "id": "7df3b94f-2d9d-460a-8445-ab7c4c4e7fb5",
   "metadata": {},
   "outputs": [],
   "source": [
    "doc = Document(words[0])"
   ]
  },
  {
   "cell_type": "code",
   "execution_count": 18,
   "id": "b898fb65-8ec9-4029-b3a7-b1852e3b71e6",
   "metadata": {},
   "outputs": [
    {
     "name": "stdout",
     "output_type": "stream",
     "text": [
      "1\n",
      "Realizado acumulado\n",
      "Dez/21 (RELATÓRIO)\n",
      "Realizado acumulado\n",
      "Fev/22\n",
      "Realizado acumulado\n",
      "Mar/22\n",
      "Realizado acumulado\n",
      "Abr/22\n",
      "Projetado acumulado\n",
      "Abr/22\n",
      "TOTAL\n",
      "1.818.971\n",
      "1.756.923\n",
      "1.742.191\n",
      "1.744.744\n",
      "1.700.000\n",
      "Renda Básica Emergencial\n",
      "1.277.728\n",
      "1.277.728\n",
      "1.277.728\n",
      "1.277.728\n",
      "1.277.728\n",
      "Renda Mínima (SMADS)\n",
      "56.623\n",
      "57.762\n",
      "56.991\n",
      "57.772\n",
      "78.256\n",
      "Cestas Básicas (SMADS)\n",
      "150.061\n",
      "13.486\n",
      "0\n",
      "0\n",
      "Não especificado\n",
      "Leve Leite (SME)\n",
      "320.000\n",
      "406.874\n",
      "406.874\n",
      "406.874\n",
      "320.000\n",
      "Banco de Alimentos (SMDET)\n",
      "14.559\n",
      "1.073\n",
      "598\n",
      "2.368\n",
      "Não especificado\n"
     ]
    }
   ],
   "source": [
    "for row in list(doc.tables[0].rows):\n",
    "    for cell in row.cells:\n",
    "        print(cell.text)"
   ]
  },
  {
   "cell_type": "code",
   "execution_count": 17,
   "id": "b0be8852-f4a5-4fb4-9ea1-07f7ef810f53",
   "metadata": {},
   "outputs": [
    {
     "data": {
      "text/plain": [
       "(<docx.table._Cell at 0x1ab670073d0>,\n",
       " <docx.table._Cell at 0x1ab67007520>,\n",
       " <docx.table._Cell at 0x1ab670074c0>,\n",
       " <docx.table._Cell at 0x1ab67007610>,\n",
       " <docx.table._Cell at 0x1ab670075b0>,\n",
       " <docx.table._Cell at 0x1ab67007700>)"
      ]
     },
     "execution_count": 17,
     "metadata": {},
     "output_type": "execute_result"
    }
   ],
   "source": [
    "row.cells"
   ]
  },
  {
   "cell_type": "code",
   "execution_count": null,
   "id": "b9acdb07-05be-4da9-83da-06ebf4d41e4d",
   "metadata": {},
   "outputs": [],
   "source": []
  }
 ],
 "metadata": {
  "kernelspec": {
   "display_name": "Python 3 (ipykernel)",
   "language": "python",
   "name": "python3"
  },
  "language_info": {
   "codemirror_mode": {
    "name": "ipython",
    "version": 3
   },
   "file_extension": ".py",
   "mimetype": "text/x-python",
   "name": "python",
   "nbconvert_exporter": "python",
   "pygments_lexer": "ipython3",
   "version": "3.9.7"
  }
 },
 "nbformat": 4,
 "nbformat_minor": 5
}
